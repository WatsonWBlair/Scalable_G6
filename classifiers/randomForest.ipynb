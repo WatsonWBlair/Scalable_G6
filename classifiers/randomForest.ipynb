{
 "cells": [
  {
   "cell_type": "code",
   "execution_count": 1,
   "id": "9c05c594",
   "metadata": {},
   "outputs": [],
   "source": [
    "# Imports\n",
    "import pandas as pd\n",
    "import numpy as np\n",
    "from utils.data import getClassifierData\n",
    "from utils.reporter import ModelEvaluationHarness\n",
    "\n",
    "from sklearn.experimental import enable_halving_search_cv\n",
    "from sklearn.model_selection import HalvingRandomSearchCV\n",
    "\n",
    "from sklearn.ensemble import RandomForestClassifier as Classifier\n"
   ]
  },
  {
   "cell_type": "code",
   "execution_count": 2,
   "id": "4e1cb34e",
   "metadata": {},
   "outputs": [],
   "source": [
    "data, targets = getClassifierData()"
   ]
  },
  {
   "cell_type": "code",
   "execution_count": 3,
   "id": "0f52f164",
   "metadata": {},
   "outputs": [
    {
     "name": "stdout",
     "output_type": "stream",
     "text": [
      "11152\n"
     ]
    }
   ],
   "source": [
    "print(len(data.columns))"
   ]
  },
  {
   "cell_type": "code",
   "execution_count": null,
   "id": "d01cf9c4",
   "metadata": {},
   "outputs": [],
   "source": [
    "defaultModel = ModelEvaluationHarness(\n",
    "    Classifier(),\n",
    "    Classifier.__name__,\n",
    "    data,\n",
    "    targets\n",
    "    )\n",
    "\n",
    "defaultModel.splitData()\n",
    "defaultModel.train()\n",
    "defaultModel.predict()\n",
    "defaultModel.evaluate()\n",
    "defaultModel.graphROC()\n",
    "for valuation, value in defaultModel.evaluation.items():\n",
    "    print(valuation ,':\\n', value)"
   ]
  },
  {
   "cell_type": "code",
   "execution_count": null,
   "id": "3c2d6014",
   "metadata": {},
   "outputs": [],
   "source": [
    "# pd.DataFrame.from_dict(defaultModel.evaluation['classificationReport'])\n",
    "print(defaultModel.evaluation['classificationReport'])"
   ]
  },
  {
   "cell_type": "code",
   "execution_count": null,
   "id": "7639110c",
   "metadata": {},
   "outputs": [],
   "source": [
    "param_bounds = {\n",
    "            # 'n_estimators': list(range(50, 200, 25)),\n",
    "            'criterion': ['gini', 'entropy', 'log_loss'],\n",
    "            # 'max_depth': [None] + list(np.arange(1,12,2)),\n",
    "            # 'min_samples_split': list(np.arange(2,12,2)),\n",
    "            # 'min_samples_leaf': list(np.arange(1,12,2)),\n",
    "            # 'max_features': [None, 'sqrt', 'log2'] + list(np.arange(1,100,20)),\n",
    "            # 'max_leaf_nodes': [None] + list(np.arange(100,500,50)),\n",
    "            # 'min_weight_fraction_leaf': list(np.arange(0.0,0.5,0.1)),\n",
    "        }\n",
    "\n",
    "search = HalvingRandomSearchCV(Classifier(), param_bounds)\n",
    "search = search.fit(data, targets)\n",
    "\n",
    "\n",
    "\"\"\"Harness Classifier with Optimal Configuration\"\"\"\n",
    "tuned_evaluator = ModelEvaluationHarness(\n",
    "    Classifier(**search.best_estimator_.get_params()),\n",
    "    Classifier.__name__,\n",
    "    data,\n",
    "    targets\n",
    ")\n",
    "\n",
    "\"\"\"Evaluate Model\"\"\"\n",
    "tuned_evaluator.splitData()\n",
    "tuned_evaluator.train()\n",
    "tuned_evaluator.predict()\n",
    "tuned_evaluator.evaluate()\n",
    "tuned_evaluator.graphROC()\n",
    "for valuation, value in tuned_evaluator.evaluation.items():\n",
    "    print(valuation ,':\\n', value)"
   ]
  }
 ],
 "metadata": {
  "kernelspec": {
   "display_name": "base",
   "language": "python",
   "name": "python3"
  },
  "language_info": {
   "codemirror_mode": {
    "name": "ipython",
    "version": 3
   },
   "file_extension": ".py",
   "mimetype": "text/x-python",
   "name": "python",
   "nbconvert_exporter": "python",
   "pygments_lexer": "ipython3",
   "version": "3.12.2"
  }
 },
 "nbformat": 4,
 "nbformat_minor": 5
}
